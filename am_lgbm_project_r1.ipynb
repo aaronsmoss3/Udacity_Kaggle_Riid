{
 "cells": [
  {
   "cell_type": "code",
   "execution_count": 1,
   "metadata": {
    "execution": {
     "iopub.execute_input": "2020-10-12T18:21:01.107461Z",
     "iopub.status.busy": "2020-10-12T18:21:01.1067Z",
     "iopub.status.idle": "2020-10-12T18:21:02.19541Z",
     "shell.execute_reply": "2020-10-12T18:21:02.194464Z"
    },
    "lines_to_next_cell": 2,
    "papermill": {
     "duration": 1.131405,
     "end_time": "2020-10-12T18:21:02.195556",
     "exception": false,
     "start_time": "2020-10-12T18:21:01.064151",
     "status": "completed"
    },
    "tags": []
   },
   "outputs": [
    {
     "data": {
      "text/html": [
       "<style type='text/css'>\n",
       ".datatable table.frame { margin-bottom: 0; }\n",
       ".datatable table.frame thead { border-bottom: none; }\n",
       ".datatable table.frame tr.coltypes td {  color: #FFFFFF;  line-height: 6px;  padding: 0 0.5em;}\n",
       ".datatable .bool    { background: #DDDD99; }\n",
       ".datatable .object  { background: #565656; }\n",
       ".datatable .int     { background: #5D9E5D; }\n",
       ".datatable .float   { background: #4040CC; }\n",
       ".datatable .str     { background: #CC4040; }\n",
       ".datatable .row_index {  background: var(--jp-border-color3);  border-right: 1px solid var(--jp-border-color0);  color: var(--jp-ui-font-color3);  font-size: 9px;}\n",
       ".datatable .frame tr.coltypes .row_index {  background: var(--jp-border-color0);}\n",
       ".datatable th:nth-child(2) { padding-left: 12px; }\n",
       ".datatable .hellipsis {  color: var(--jp-cell-editor-border-color);}\n",
       ".datatable .vellipsis {  background: var(--jp-layout-color0);  color: var(--jp-cell-editor-border-color);}\n",
       ".datatable .na {  color: var(--jp-cell-editor-border-color);  font-size: 80%;}\n",
       ".datatable .footer { font-size: 9px; }\n",
       ".datatable .frame_dimensions {  background: var(--jp-border-color3);  border-top: 1px solid var(--jp-border-color0);  color: var(--jp-ui-font-color3);  display: inline-block;  opacity: 0.6;  padding: 1px 10px 1px 5px;}\n",
       ".datatable .frame thead tr.colnames {  background-image: url('data:image/png;base64,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');  background-repeat: repeat-x;  background-size: 14px;  height: 28px;}\n",
       "</style>\n"
      ],
      "text/plain": [
       "<IPython.core.display.HTML object>"
      ]
     },
     "metadata": {},
     "output_type": "display_data"
    }
   ],
   "source": [
    "import pandas as pd\n",
    "import numpy as np\n",
    "import gc\n",
    "from sklearn.metrics import roc_auc_score\n",
    "from collections import defaultdict\n",
    "from tqdm.notebook import tqdm\n",
    "import lightgbm as lgb"
   ]
  },
  {
   "cell_type": "markdown",
   "metadata": {},
   "source": [
    "### Used datatable jay file format to handle the large csv"
   ]
  },
  {
   "cell_type": "code",
   "execution_count": 2,
   "metadata": {},
   "outputs": [
    {
     "name": "stdout",
     "output_type": "stream",
     "text": [
      "Requirement already satisfied: datatable in /opt/conda/lib/python3.7/site-packages (0.11.0)\n"
     ]
    }
   ],
   "source": [
    "! pip install datatable\n",
    "import datatable as dt"
   ]
  },
  {
   "cell_type": "code",
   "execution_count": 3,
   "metadata": {},
   "outputs": [],
   "source": [
    "pd.set_option('display.float_format', lambda x: '%.5f' % x)\n",
    "pd.set_option('display.max_columns', 500)"
   ]
  },
  {
   "cell_type": "markdown",
   "metadata": {},
   "source": [
    "## Build up from Questions.csv\n",
    "### Merged with Train to build 'answered_correctly_content' => groupby('userid')"
   ]
  },
  {
   "cell_type": "raw",
   "metadata": {},
   "source": [
    "##### Dummy \"part\" as it was predictive but possible selecting the most predictive category may increase signal"
   ]
  },
  {
   "cell_type": "code",
   "execution_count": null,
   "metadata": {},
   "outputs": [],
   "source": [
    "results_c_r2 = pd.read_csv('results_c_r3.csv')"
   ]
  },
  {
   "cell_type": "code",
   "execution_count": 11,
   "metadata": {},
   "outputs": [],
   "source": [
    "results_c_r3 = pd.concat([results_c_r2.drop('part', axis=1), pd.get_dummies(results_c_r2['part'])], axis=1)"
   ]
  },
  {
   "cell_type": "code",
   "execution_count": 12,
   "metadata": {},
   "outputs": [],
   "source": [
    "results_c_r3 = results_c_r3.rename(columns={1: 'part_1', 2:'part_2', 3:'part_3', 4:'part_4', 5:'part_5', 6:'part_6', 7:'part_7'})"
   ]
  },
  {
   "cell_type": "code",
   "execution_count": 13,
   "metadata": {},
   "outputs": [
    {
     "data": {
      "text/plain": [
       "Index(['answered_correctly_content', 'content_sum', 'content_skew',\n",
       "       'content_std', 'content_id', 'tags', 'tagsA', 'tagsB', 'tagsC',\n",
       "       'diff_pass_rate', 'diff_pass_rate1', 'part_1', 'part_2', 'part_3',\n",
       "       'part_4', 'part_5', 'part_6', 'part_7'],\n",
       "      dtype='object')"
      ]
     },
     "execution_count": 13,
     "metadata": {},
     "output_type": "execute_result"
    }
   ],
   "source": [
    "results_c_r3.columns"
   ]
  },
  {
   "cell_type": "markdown",
   "metadata": {},
   "source": [
    "# Feature engineering"
   ]
  },
  {
   "cell_type": "code",
   "execution_count": 61,
   "metadata": {},
   "outputs": [],
   "source": [
    "## Previous dataset I built that has the mean elapsed time for each task_container_id (question bundle)\n",
    "## by the top 80th percentile users by total correct\n",
    "train_elapse_df = pd.read_csv('train_elapse_df.csv') "
   ]
  },
  {
   "cell_type": "markdown",
   "metadata": {},
   "source": [
    "## Build train.jay & valid.jay"
   ]
  },
  {
   "cell_type": "code",
   "execution_count": null,
   "metadata": {},
   "outputs": [],
   "source": [
    "#### user performance within train\n",
    "train['answered_correctly_sum_u'] = train.groupby('user_id')['answered_correctly'].cumsum()\n",
    "train['count_u'] = train.groupby('user_id')['answered_correctly'].rank(method='first')\n",
    "train['answered_correctly_avg_u'] = train['answered_correctly_sum_u'] / train['count_u']"
   ]
  },
  {
   "cell_type": "code",
   "execution_count": null,
   "metadata": {},
   "outputs": [],
   "source": [
    "#### user performance merge to valid dataset for final feature\n",
    "combo = pd.merge(train[['user_id', 'answered_correctly']], valid[['user_id', 'answered_correctly']], how='outer').drop_duplicates()\n",
    "final_user_performance = combo.groupby('user_id'['answered_correctly_content'].agg('mean','count')\n",
    "final_user_performance = final_user_performance.reset_index()\n",
    "final_user_performance = final_user_performance.rename(columns={'mean':'answered_correctly_sum_u', 'count':'count_u'})"
   ]
  },
  {
   "cell_type": "code",
   "execution_count": null,
   "metadata": {},
   "outputs": [],
   "source": [
    "# Train only aggregate of content_id difficulty\n",
    "# answered correctly average for each content\n",
    "combo1 = pd.merge(train[['content_id', 'answered_correctly']], valid[['content_id', 'answered_correctly']], how='outer').drop_duplicates()\n",
    "content_df = combo1[['content_id','answered_correctly']].groupby(['content_id']).agg(['mean', 'sum']).reset_index()\n",
    "content_df.columns = ['content_id', 'answered_correctly_avg_c', 'content_sum']\n",
    "train = content_df.merge(train, how='left', on='content_id')"
   ]
  },
  {
   "cell_type": "code",
   "execution_count": null,
   "metadata": {},
   "outputs": [],
   "source": [
    "train = pd.merge(train, content_df, on=['content_id'], how=\"left\")\n",
    "valid = pd.merge(valid, content_df, on=['content_id'], how=\"left\")"
   ]
  },
  {
   "cell_type": "code",
   "execution_count": null,
   "metadata": {},
   "outputs": [],
   "source": [
    "combo['prior_question_elapsed_time_mean'] = combo.prior_question_elapsed_time/100\n",
    "print (combo['prior_question_elapsed_time_mean'].mean())  # 254.39410"
   ]
  },
  {
   "cell_type": "code",
   "execution_count": null,
   "metadata": {},
   "outputs": [],
   "source": [
    "train['prior_question_elapsed_time_mean'] = train['prior_question_elapsed_time'] / 100\n",
    "train['prior_question_elapsed_time_mean'].fillna(254.39410, inplace=True)\n",
    "valid['prior_question_elapsed_time_mean'] = valid['prior_question_elapsed_time'] / 100\n",
    "valid['prior_question_elapsed_time_mean'].fillna(254.39410, inplace=True)"
   ]
  },
  {
   "cell_type": "markdown",
   "metadata": {},
   "source": [
    "### Merge train and valid to build feature 'run_diff_time' "
   ]
  },
  {
   "cell_type": "code",
   "execution_count": 58,
   "metadata": {},
   "outputs": [],
   "source": [
    "combo_time = pd.merge(train[['user_id', 'task_container_id','prior_question_elapsed_time_mean']], valid[['user_id', 'task_container_id','prior_question_elapsed_time_mean']], how='outer')"
   ]
  },
  {
   "cell_type": "code",
   "execution_count": 62,
   "metadata": {},
   "outputs": [
    {
     "data": {
      "text/html": [
       "<div>\n",
       "<style scoped>\n",
       "    .dataframe tbody tr th:only-of-type {\n",
       "        vertical-align: middle;\n",
       "    }\n",
       "\n",
       "    .dataframe tbody tr th {\n",
       "        vertical-align: top;\n",
       "    }\n",
       "\n",
       "    .dataframe thead th {\n",
       "        text-align: right;\n",
       "    }\n",
       "</style>\n",
       "<table border=\"1\" class=\"dataframe\">\n",
       "  <thead>\n",
       "    <tr style=\"text-align: right;\">\n",
       "      <th></th>\n",
       "      <th>user_id</th>\n",
       "      <th>task_container_id</th>\n",
       "      <th>prior_question_elapsed_time_mean</th>\n",
       "      <th>prev_task_container</th>\n",
       "    </tr>\n",
       "  </thead>\n",
       "  <tbody>\n",
       "    <tr>\n",
       "      <th>0</th>\n",
       "      <td>705741139</td>\n",
       "      <td>0</td>\n",
       "      <td>254.39410</td>\n",
       "      <td>nan</td>\n",
       "    </tr>\n",
       "    <tr>\n",
       "      <th>1</th>\n",
       "      <td>705741139</td>\n",
       "      <td>1</td>\n",
       "      <td>160.00000</td>\n",
       "      <td>0.00000</td>\n",
       "    </tr>\n",
       "    <tr>\n",
       "      <th>2</th>\n",
       "      <td>705741139</td>\n",
       "      <td>2</td>\n",
       "      <td>190.00000</td>\n",
       "      <td>1.00000</td>\n",
       "    </tr>\n",
       "    <tr>\n",
       "      <th>3</th>\n",
       "      <td>705741139</td>\n",
       "      <td>3</td>\n",
       "      <td>170.00000</td>\n",
       "      <td>2.00000</td>\n",
       "    </tr>\n",
       "    <tr>\n",
       "      <th>4</th>\n",
       "      <td>705741139</td>\n",
       "      <td>4</td>\n",
       "      <td>170.00000</td>\n",
       "      <td>3.00000</td>\n",
       "    </tr>\n",
       "  </tbody>\n",
       "</table>\n",
       "</div>"
      ],
      "text/plain": [
       "     user_id  task_container_id  prior_question_elapsed_time_mean  \\\n",
       "0  705741139                  0                         254.39410   \n",
       "1  705741139                  1                         160.00000   \n",
       "2  705741139                  2                         190.00000   \n",
       "3  705741139                  3                         170.00000   \n",
       "4  705741139                  4                         170.00000   \n",
       "\n",
       "   prev_task_container  \n",
       "0                  nan  \n",
       "1              0.00000  \n",
       "2              1.00000  \n",
       "3              2.00000  \n",
       "4              3.00000  "
      ]
     },
     "execution_count": 62,
     "metadata": {},
     "output_type": "execute_result"
    }
   ],
   "source": [
    "combo_time['prev_task_container'] = combo_time.groupby('user_id')['task_container_id'].shift(1)\n",
    "combo_time['prior_question_elapsed_time_mean'] = combo_time['prior_question_elapsed_time_mean'] / 100\n",
    "combo_time.head()"
   ]
  },
  {
   "cell_type": "code",
   "execution_count": 63,
   "metadata": {},
   "outputs": [],
   "source": [
    "combo_time = combo_time.merge(train_elapse_df, left_on='prev_task_container',right_on='task_container_id', how='left')\n",
    "combo_time['diff_time_elapse'] = combo_time['prior_question_elapsed_time_mean'] - combo_time['median_topusers_time_prior']\n",
    "combo_time['run_diff_time'] = combo_time.groupby('user_id')['diff_time_elapse'].cumsum()"
   ]
  },
  {
   "cell_type": "code",
   "execution_count": 64,
   "metadata": {},
   "outputs": [],
   "source": [
    "combo_time = combo_time.drop_duplicates()"
   ]
  },
  {
   "cell_type": "code",
   "execution_count": 66,
   "metadata": {},
   "outputs": [],
   "source": [
    "combo_time = combo_time.rename(columns={'task_container_id_x':'task_container_id'})"
   ]
  },
  {
   "cell_type": "code",
   "execution_count": 67,
   "metadata": {},
   "outputs": [
    {
     "data": {
      "text/html": [
       "<div>\n",
       "<style scoped>\n",
       "    .dataframe tbody tr th:only-of-type {\n",
       "        vertical-align: middle;\n",
       "    }\n",
       "\n",
       "    .dataframe tbody tr th {\n",
       "        vertical-align: top;\n",
       "    }\n",
       "\n",
       "    .dataframe thead th {\n",
       "        text-align: right;\n",
       "    }\n",
       "</style>\n",
       "<table border=\"1\" class=\"dataframe\">\n",
       "  <thead>\n",
       "    <tr style=\"text-align: right;\">\n",
       "      <th></th>\n",
       "      <th>user_id</th>\n",
       "      <th>task_container_id</th>\n",
       "      <th>prior_question_elapsed_time_mean</th>\n",
       "      <th>prev_task_container</th>\n",
       "      <th>task_container_id_y</th>\n",
       "      <th>median_topusers_time_prior</th>\n",
       "      <th>diff_time_elapse</th>\n",
       "      <th>run_diff_time</th>\n",
       "    </tr>\n",
       "  </thead>\n",
       "  <tbody>\n",
       "    <tr>\n",
       "      <th>0</th>\n",
       "      <td>705741139</td>\n",
       "      <td>0</td>\n",
       "      <td>254.39410</td>\n",
       "      <td>nan</td>\n",
       "      <td>nan</td>\n",
       "      <td>nan</td>\n",
       "      <td>nan</td>\n",
       "      <td>nan</td>\n",
       "    </tr>\n",
       "    <tr>\n",
       "      <th>1</th>\n",
       "      <td>705741139</td>\n",
       "      <td>1</td>\n",
       "      <td>160.00000</td>\n",
       "      <td>0.00000</td>\n",
       "      <td>0.00000</td>\n",
       "      <td>250.00000</td>\n",
       "      <td>-90.00000</td>\n",
       "      <td>-90.00000</td>\n",
       "    </tr>\n",
       "    <tr>\n",
       "      <th>2</th>\n",
       "      <td>705741139</td>\n",
       "      <td>2</td>\n",
       "      <td>190.00000</td>\n",
       "      <td>1.00000</td>\n",
       "      <td>1.00000</td>\n",
       "      <td>210.00000</td>\n",
       "      <td>-20.00000</td>\n",
       "      <td>-110.00000</td>\n",
       "    </tr>\n",
       "    <tr>\n",
       "      <th>3</th>\n",
       "      <td>705741139</td>\n",
       "      <td>3</td>\n",
       "      <td>170.00000</td>\n",
       "      <td>2.00000</td>\n",
       "      <td>2.00000</td>\n",
       "      <td>210.00000</td>\n",
       "      <td>-40.00000</td>\n",
       "      <td>-150.00000</td>\n",
       "    </tr>\n",
       "    <tr>\n",
       "      <th>4</th>\n",
       "      <td>705741139</td>\n",
       "      <td>4</td>\n",
       "      <td>170.00000</td>\n",
       "      <td>3.00000</td>\n",
       "      <td>3.00000</td>\n",
       "      <td>230.00000</td>\n",
       "      <td>-60.00000</td>\n",
       "      <td>-210.00000</td>\n",
       "    </tr>\n",
       "  </tbody>\n",
       "</table>\n",
       "</div>"
      ],
      "text/plain": [
       "     user_id  task_container_id  prior_question_elapsed_time_mean  \\\n",
       "0  705741139                  0                         254.39410   \n",
       "1  705741139                  1                         160.00000   \n",
       "2  705741139                  2                         190.00000   \n",
       "3  705741139                  3                         170.00000   \n",
       "4  705741139                  4                         170.00000   \n",
       "\n",
       "   prev_task_container  task_container_id_y  median_topusers_time_prior  \\\n",
       "0                  nan                  nan                         nan   \n",
       "1              0.00000              0.00000                   250.00000   \n",
       "2              1.00000              1.00000                   210.00000   \n",
       "3              2.00000              2.00000                   210.00000   \n",
       "4              3.00000              3.00000                   230.00000   \n",
       "\n",
       "   diff_time_elapse  run_diff_time  \n",
       "0               nan            nan  \n",
       "1         -90.00000      -90.00000  \n",
       "2         -20.00000     -110.00000  \n",
       "3         -40.00000     -150.00000  \n",
       "4         -60.00000     -210.00000  "
      ]
     },
     "execution_count": 67,
     "metadata": {},
     "output_type": "execute_result"
    }
   ],
   "source": [
    "combo_time.head()"
   ]
  },
  {
   "cell_type": "code",
   "execution_count": 68,
   "metadata": {},
   "outputs": [],
   "source": [
    "combo_time1 = combo_time[['user_id', 'task_container_id','run_diff_time']]"
   ]
  },
  {
   "cell_type": "code",
   "execution_count": 69,
   "metadata": {},
   "outputs": [],
   "source": [
    "dt.Frame(combo_time1).to_jay('combo_time.jay')"
   ]
  },
  {
   "cell_type": "code",
   "execution_count": null,
   "metadata": {},
   "outputs": [],
   "source": [
    "## Merge with train and valid\n",
    "train = train.merge(combo_time1, how='left', on=['user_id','prev_task_container'])\n",
    "valid = valid.merge(combo_time1, how='left', on=['user_id', 'task_container_id'])"
   ]
  },
  {
   "cell_type": "code",
   "execution_count": null,
   "metadata": {},
   "outputs": [],
   "source": [
    "train = train.groupby('user_id').tail(800)\n",
    "valid = train.groupby('user_id').tail(4)"
   ]
  },
  {
   "cell_type": "markdown",
   "metadata": {},
   "source": [
    "dt.Frame(train).to_jay('train.jay')\n",
    "dt.Frame(valid).to_jay('valid.jay')"
   ]
  },
  {
   "cell_type": "markdown",
   "metadata": {},
   "source": [
    "# modeling"
   ]
  },
  {
   "cell_type": "markdown",
   "metadata": {},
   "source": [
    "train= dt.fread('/home/jupyter/train.jay').to_pandas()"
   ]
  },
  {
   "cell_type": "raw",
   "metadata": {},
   "source": [
    "train.shape\n",
    "(96817414, 27)"
   ]
  },
  {
   "cell_type": "markdown",
   "metadata": {},
   "source": [
    "valid= dt.fread('/home/jupyter/valid.jay').to_pandas()"
   ]
  },
  {
   "cell_type": "code",
   "execution_count": 8,
   "metadata": {},
   "outputs": [],
   "source": [
    "train = train.rename(columns={'task_container_id_x': 'task_container_id'})"
   ]
  },
  {
   "cell_type": "code",
   "execution_count": 9,
   "metadata": {},
   "outputs": [
    {
     "data": {
      "text/html": [
       "<div>\n",
       "<style scoped>\n",
       "    .dataframe tbody tr th:only-of-type {\n",
       "        vertical-align: middle;\n",
       "    }\n",
       "\n",
       "    .dataframe tbody tr th {\n",
       "        vertical-align: top;\n",
       "    }\n",
       "\n",
       "    .dataframe thead th {\n",
       "        text-align: right;\n",
       "    }\n",
       "</style>\n",
       "<table border=\"1\" class=\"dataframe\">\n",
       "  <thead>\n",
       "    <tr style=\"text-align: right;\">\n",
       "      <th></th>\n",
       "      <th>row_id</th>\n",
       "      <th>user_id</th>\n",
       "      <th>content_id</th>\n",
       "      <th>content_type_id</th>\n",
       "      <th>task_container_id</th>\n",
       "      <th>answered_correctly</th>\n",
       "      <th>prior_question_elapsed_time</th>\n",
       "      <th>answered_correctly_avg_c</th>\n",
       "      <th>answered_correctly_content</th>\n",
       "      <th>content_sum</th>\n",
       "      <th>part</th>\n",
       "      <th>tags</th>\n",
       "      <th>tagsA</th>\n",
       "      <th>tagsB</th>\n",
       "      <th>tagsC</th>\n",
       "      <th>diff_pass_rate</th>\n",
       "      <th>diff_pass_rate1</th>\n",
       "      <th>answered_correctly_sum_u</th>\n",
       "      <th>count_u</th>\n",
       "      <th>answered_correctly_avg_u</th>\n",
       "      <th>prior_question_elapsed_time_mean</th>\n",
       "      <th>mean</th>\n",
       "      <th>prev_task_container</th>\n",
       "      <th>task_container_id_y</th>\n",
       "      <th>median_topusers_time_prior</th>\n",
       "      <th>diff_time_elapse</th>\n",
       "      <th>run_diff_time</th>\n",
       "    </tr>\n",
       "  </thead>\n",
       "  <tbody>\n",
       "    <tr>\n",
       "      <th>0</th>\n",
       "      <td>32933156</td>\n",
       "      <td>705741139</td>\n",
       "      <td>128</td>\n",
       "      <td>0</td>\n",
       "      <td>0</td>\n",
       "      <td>1</td>\n",
       "      <td>nan</td>\n",
       "      <td>0.96689</td>\n",
       "      <td>0.96687</td>\n",
       "      <td>18969.00000</td>\n",
       "      <td>1</td>\n",
       "      <td>737</td>\n",
       "      <td>29</td>\n",
       "      <td>267</td>\n",
       "      <td>110</td>\n",
       "      <td>0.02242</td>\n",
       "      <td>0</td>\n",
       "      <td>0</td>\n",
       "      <td>0</td>\n",
       "      <td>nan</td>\n",
       "      <td>254.39410</td>\n",
       "      <td>0.68358</td>\n",
       "      <td>nan</td>\n",
       "      <td>nan</td>\n",
       "      <td>nan</td>\n",
       "      <td>nan</td>\n",
       "      <td>nan</td>\n",
       "    </tr>\n",
       "    <tr>\n",
       "      <th>1</th>\n",
       "      <td>32933157</td>\n",
       "      <td>705741139</td>\n",
       "      <td>7860</td>\n",
       "      <td>0</td>\n",
       "      <td>1</td>\n",
       "      <td>1</td>\n",
       "      <td>16000.00000</td>\n",
       "      <td>0.95472</td>\n",
       "      <td>0.95482</td>\n",
       "      <td>20751.00000</td>\n",
       "      <td>1</td>\n",
       "      <td>702</td>\n",
       "      <td>29</td>\n",
       "      <td>263</td>\n",
       "      <td>84</td>\n",
       "      <td>0.03141</td>\n",
       "      <td>0</td>\n",
       "      <td>1</td>\n",
       "      <td>1</td>\n",
       "      <td>1.00000</td>\n",
       "      <td>160.00000</td>\n",
       "      <td>0.68358</td>\n",
       "      <td>0.00000</td>\n",
       "      <td>0.00000</td>\n",
       "      <td>250.00000</td>\n",
       "      <td>-90.00000</td>\n",
       "      <td>-90.00000</td>\n",
       "    </tr>\n",
       "    <tr>\n",
       "      <th>2</th>\n",
       "      <td>32933158</td>\n",
       "      <td>705741139</td>\n",
       "      <td>7922</td>\n",
       "      <td>0</td>\n",
       "      <td>2</td>\n",
       "      <td>1</td>\n",
       "      <td>19000.00000</td>\n",
       "      <td>0.95316</td>\n",
       "      <td>0.95322</td>\n",
       "      <td>18501.00000</td>\n",
       "      <td>1</td>\n",
       "      <td>737</td>\n",
       "      <td>29</td>\n",
       "      <td>267</td>\n",
       "      <td>110</td>\n",
       "      <td>0.04037</td>\n",
       "      <td>0</td>\n",
       "      <td>2</td>\n",
       "      <td>2</td>\n",
       "      <td>1.00000</td>\n",
       "      <td>190.00000</td>\n",
       "      <td>0.68358</td>\n",
       "      <td>1.00000</td>\n",
       "      <td>1.00000</td>\n",
       "      <td>210.00000</td>\n",
       "      <td>-20.00000</td>\n",
       "      <td>-110.00000</td>\n",
       "    </tr>\n",
       "    <tr>\n",
       "      <th>3</th>\n",
       "      <td>32933159</td>\n",
       "      <td>705741139</td>\n",
       "      <td>156</td>\n",
       "      <td>0</td>\n",
       "      <td>3</td>\n",
       "      <td>1</td>\n",
       "      <td>17000.00000</td>\n",
       "      <td>0.93276</td>\n",
       "      <td>0.93189</td>\n",
       "      <td>20961.00000</td>\n",
       "      <td>1</td>\n",
       "      <td>689</td>\n",
       "      <td>29</td>\n",
       "      <td>262</td>\n",
       "      <td>74</td>\n",
       "      <td>0.04304</td>\n",
       "      <td>0</td>\n",
       "      <td>3</td>\n",
       "      <td>3</td>\n",
       "      <td>1.00000</td>\n",
       "      <td>170.00000</td>\n",
       "      <td>0.68358</td>\n",
       "      <td>2.00000</td>\n",
       "      <td>2.00000</td>\n",
       "      <td>210.00000</td>\n",
       "      <td>-40.00000</td>\n",
       "      <td>-150.00000</td>\n",
       "    </tr>\n",
       "    <tr>\n",
       "      <th>4</th>\n",
       "      <td>32933160</td>\n",
       "      <td>705741139</td>\n",
       "      <td>51</td>\n",
       "      <td>0</td>\n",
       "      <td>4</td>\n",
       "      <td>1</td>\n",
       "      <td>17000.00000</td>\n",
       "      <td>0.93016</td>\n",
       "      <td>0.92973</td>\n",
       "      <td>22413.00000</td>\n",
       "      <td>1</td>\n",
       "      <td>745</td>\n",
       "      <td>29</td>\n",
       "      <td>268</td>\n",
       "      <td>117</td>\n",
       "      <td>0.05910</td>\n",
       "      <td>0</td>\n",
       "      <td>4</td>\n",
       "      <td>4</td>\n",
       "      <td>1.00000</td>\n",
       "      <td>170.00000</td>\n",
       "      <td>0.68358</td>\n",
       "      <td>3.00000</td>\n",
       "      <td>3.00000</td>\n",
       "      <td>230.00000</td>\n",
       "      <td>-60.00000</td>\n",
       "      <td>-210.00000</td>\n",
       "    </tr>\n",
       "  </tbody>\n",
       "</table>\n",
       "</div>"
      ],
      "text/plain": [
       "     row_id    user_id  content_id  content_type_id  task_container_id  \\\n",
       "0  32933156  705741139         128                0                  0   \n",
       "1  32933157  705741139        7860                0                  1   \n",
       "2  32933158  705741139        7922                0                  2   \n",
       "3  32933159  705741139         156                0                  3   \n",
       "4  32933160  705741139          51                0                  4   \n",
       "\n",
       "   answered_correctly  prior_question_elapsed_time  answered_correctly_avg_c  \\\n",
       "0                   1                          nan                   0.96689   \n",
       "1                   1                  16000.00000                   0.95472   \n",
       "2                   1                  19000.00000                   0.95316   \n",
       "3                   1                  17000.00000                   0.93276   \n",
       "4                   1                  17000.00000                   0.93016   \n",
       "\n",
       "   answered_correctly_content  content_sum  part  tags  tagsA  tagsB  tagsC  \\\n",
       "0                     0.96687  18969.00000     1   737     29    267    110   \n",
       "1                     0.95482  20751.00000     1   702     29    263     84   \n",
       "2                     0.95322  18501.00000     1   737     29    267    110   \n",
       "3                     0.93189  20961.00000     1   689     29    262     74   \n",
       "4                     0.92973  22413.00000     1   745     29    268    117   \n",
       "\n",
       "   diff_pass_rate  diff_pass_rate1  answered_correctly_sum_u  count_u  \\\n",
       "0         0.02242                0                         0        0   \n",
       "1         0.03141                0                         1        1   \n",
       "2         0.04037                0                         2        2   \n",
       "3         0.04304                0                         3        3   \n",
       "4         0.05910                0                         4        4   \n",
       "\n",
       "   answered_correctly_avg_u  prior_question_elapsed_time_mean    mean  \\\n",
       "0                       nan                         254.39410 0.68358   \n",
       "1                   1.00000                         160.00000 0.68358   \n",
       "2                   1.00000                         190.00000 0.68358   \n",
       "3                   1.00000                         170.00000 0.68358   \n",
       "4                   1.00000                         170.00000 0.68358   \n",
       "\n",
       "   prev_task_container  task_container_id_y  median_topusers_time_prior  \\\n",
       "0                  nan                  nan                         nan   \n",
       "1              0.00000              0.00000                   250.00000   \n",
       "2              1.00000              1.00000                   210.00000   \n",
       "3              2.00000              2.00000                   210.00000   \n",
       "4              3.00000              3.00000                   230.00000   \n",
       "\n",
       "   diff_time_elapse  run_diff_time  \n",
       "0               nan            nan  \n",
       "1         -90.00000      -90.00000  \n",
       "2         -20.00000     -110.00000  \n",
       "3         -40.00000     -150.00000  \n",
       "4         -60.00000     -210.00000  "
      ]
     },
     "execution_count": 9,
     "metadata": {},
     "output_type": "execute_result"
    }
   ],
   "source": [
    "train.head()"
   ]
  },
  {
   "cell_type": "markdown",
   "metadata": {},
   "source": [
    "## Strength of Schedule build\n",
    "### diff_win_sos =  user's running average of correct - (mean of individual user's content_id difficulty to this point) \n",
    "### run_diff_win_sos = running sum of diff_win_sos\n",
    "## For train merge"
   ]
  },
  {
   "cell_type": "code",
   "execution_count": 14,
   "metadata": {},
   "outputs": [],
   "source": [
    "train['run_sos'] = train.groupby('user_id')['answered_correctly_content'].cumsum()\n",
    "train['sos_fin'] = train['run_sos'] / (train['task_container_id']+1)\n",
    "train['lag_sos_fin'] = train.groupby('user_id')['sos_fin'].shift(1)\n",
    "train['diff_win_sos']= train['lag_sos_fin'] - train['answered_correctly_avg_u']\n",
    "train['run_diff_win_sos'] = train.groupby('user_id')['diff_win_sos'].cumsum()"
   ]
  },
  {
   "cell_type": "code",
   "execution_count": 15,
   "metadata": {},
   "outputs": [],
   "source": [
    "tr_mean_diff_win_sos = train['diff_win_sos'].mean()\n",
    "tr_median_run_diff_win_sos = train['run_diff_win_sos'].median()"
   ]
  },
  {
   "cell_type": "code",
   "execution_count": 16,
   "metadata": {},
   "outputs": [],
   "source": [
    "train['diff_win_sos'] = train['diff_win_sos'].fillna(tr_mean_diff_win_sos)\n",
    "train['run_diff_win_sos'] = train['run_diff_win_sos'].fillna(tr_median_run_diff_win_sos)"
   ]
  },
  {
   "cell_type": "code",
   "execution_count": 17,
   "metadata": {},
   "outputs": [],
   "source": [
    "train = train.merge(results_c_r3[['content_id','part_1', 'part_2', 'part_3','part_4', 'part_5', 'part_6', 'part_7' ]], how='left', on='content_id')"
   ]
  },
  {
   "cell_type": "code",
   "execution_count": 18,
   "metadata": {},
   "outputs": [],
   "source": [
    "train.drop('part', axis=1, inplace=True)"
   ]
  },
  {
   "cell_type": "markdown",
   "metadata": {},
   "source": [
    "## SOS for valid merge for final SOS feature"
   ]
  },
  {
   "cell_type": "code",
   "execution_count": 26,
   "metadata": {},
   "outputs": [],
   "source": [
    "combo_sos = pd.merge(train[['user_id', 'task_container_id','answered_correctly_content', 'answered_correctly_avg_u']], \\\n",
    "                     valid[['user_id', 'task_container_id','answered_correctly_content','answered_correctly_avg_u']], how='outer')"
   ]
  },
  {
   "cell_type": "code",
   "execution_count": 27,
   "metadata": {},
   "outputs": [],
   "source": [
    "combo_sos = combo_sos.sort_values(['user_id','task_container_id'])"
   ]
  },
  {
   "cell_type": "code",
   "execution_count": 28,
   "metadata": {},
   "outputs": [],
   "source": [
    "combo_sos['run_sos'] = combo_sos.groupby('user_id')['answered_correctly_content'].cumsum()\n",
    "combo_sos['sos_fin'] = combo_sos['run_sos'] / (combo_sos['task_container_id']+1)\n",
    "combo_sos['lag_sos_fin'] = combo_sos.groupby('user_id')['sos_fin'].shift(1)\n",
    "combo_sos['diff_win_sos']= combo_sos['lag_sos_fin'] - combo_sos['answered_correctly_avg_u']\n",
    "combo_sos['run_diff_win_sos'] = combo_sos.groupby('user_id')['diff_win_sos'].cumsum()"
   ]
  },
  {
   "cell_type": "code",
   "execution_count": 29,
   "metadata": {},
   "outputs": [],
   "source": [
    "combo_sos = combo_sos.reset_index()"
   ]
  },
  {
   "cell_type": "markdown",
   "metadata": {},
   "source": [
    "### Save to datatable jay file"
   ]
  },
  {
   "cell_type": "code",
   "execution_count": 30,
   "metadata": {},
   "outputs": [],
   "source": [
    "dt.Frame(combo_sos).to_jay('combo_sos.jay')"
   ]
  },
  {
   "cell_type": "code",
   "execution_count": 27,
   "metadata": {},
   "outputs": [
    {
     "data": {
      "text/plain": [
       "Index(['index', 'user_id', 'task_container_id', 'answered_correctly_content',\n",
       "       'answered_correctly_avg_u', 'run_sos', 'sos_fin', 'lag_sos_fin',\n",
       "       'diff_win_sos', 'run_diff_win_sos'],\n",
       "      dtype='object')"
      ]
     },
     "execution_count": 27,
     "metadata": {},
     "output_type": "execute_result"
    }
   ],
   "source": [
    "combo_sos.columns"
   ]
  },
  {
   "cell_type": "code",
   "execution_count": 31,
   "metadata": {},
   "outputs": [
    {
     "data": {
      "text/html": [
       "<div>\n",
       "<style scoped>\n",
       "    .dataframe tbody tr th:only-of-type {\n",
       "        vertical-align: middle;\n",
       "    }\n",
       "\n",
       "    .dataframe tbody tr th {\n",
       "        vertical-align: top;\n",
       "    }\n",
       "\n",
       "    .dataframe thead th {\n",
       "        text-align: right;\n",
       "    }\n",
       "</style>\n",
       "<table border=\"1\" class=\"dataframe\">\n",
       "  <thead>\n",
       "    <tr style=\"text-align: right;\">\n",
       "      <th></th>\n",
       "      <th>index</th>\n",
       "      <th>user_id</th>\n",
       "      <th>task_container_id</th>\n",
       "      <th>answered_correctly_content</th>\n",
       "      <th>answered_correctly_avg_u</th>\n",
       "      <th>run_sos</th>\n",
       "      <th>sos_fin</th>\n",
       "      <th>lag_sos_fin</th>\n",
       "      <th>diff_win_sos</th>\n",
       "      <th>run_diff_win_sos</th>\n",
       "    </tr>\n",
       "  </thead>\n",
       "  <tbody>\n",
       "    <tr>\n",
       "      <th>0</th>\n",
       "      <td>93229584</td>\n",
       "      <td>115</td>\n",
       "      <td>0</td>\n",
       "      <td>0.96687</td>\n",
       "      <td>1.00000</td>\n",
       "      <td>0.96687</td>\n",
       "      <td>0.96687</td>\n",
       "      <td>nan</td>\n",
       "      <td>nan</td>\n",
       "      <td>nan</td>\n",
       "    </tr>\n",
       "    <tr>\n",
       "      <th>1</th>\n",
       "      <td>93229482</td>\n",
       "      <td>115</td>\n",
       "      <td>1</td>\n",
       "      <td>0.74549</td>\n",
       "      <td>nan</td>\n",
       "      <td>1.71236</td>\n",
       "      <td>0.85618</td>\n",
       "      <td>0.96687</td>\n",
       "      <td>nan</td>\n",
       "      <td>nan</td>\n",
       "    </tr>\n",
       "    <tr>\n",
       "      <th>2</th>\n",
       "      <td>93229522</td>\n",
       "      <td>115</td>\n",
       "      <td>2</td>\n",
       "      <td>0.73490</td>\n",
       "      <td>1.00000</td>\n",
       "      <td>2.44726</td>\n",
       "      <td>0.81575</td>\n",
       "      <td>0.85618</td>\n",
       "      <td>-0.14382</td>\n",
       "      <td>-0.14382</td>\n",
       "    </tr>\n",
       "    <tr>\n",
       "      <th>3</th>\n",
       "      <td>93229599</td>\n",
       "      <td>115</td>\n",
       "      <td>3</td>\n",
       "      <td>0.95482</td>\n",
       "      <td>1.00000</td>\n",
       "      <td>3.40208</td>\n",
       "      <td>0.85052</td>\n",
       "      <td>0.81575</td>\n",
       "      <td>-0.18425</td>\n",
       "      <td>-0.32806</td>\n",
       "    </tr>\n",
       "    <tr>\n",
       "      <th>4</th>\n",
       "      <td>93229605</td>\n",
       "      <td>115</td>\n",
       "      <td>4</td>\n",
       "      <td>0.95322</td>\n",
       "      <td>1.00000</td>\n",
       "      <td>4.35530</td>\n",
       "      <td>0.87106</td>\n",
       "      <td>0.85052</td>\n",
       "      <td>-0.14948</td>\n",
       "      <td>-0.47754</td>\n",
       "    </tr>\n",
       "  </tbody>\n",
       "</table>\n",
       "</div>"
      ],
      "text/plain": [
       "      index  user_id  task_container_id  answered_correctly_content  \\\n",
       "0  93229584      115                  0                     0.96687   \n",
       "1  93229482      115                  1                     0.74549   \n",
       "2  93229522      115                  2                     0.73490   \n",
       "3  93229599      115                  3                     0.95482   \n",
       "4  93229605      115                  4                     0.95322   \n",
       "\n",
       "   answered_correctly_avg_u  run_sos  sos_fin  lag_sos_fin  diff_win_sos  \\\n",
       "0                   1.00000  0.96687  0.96687          nan           nan   \n",
       "1                       nan  1.71236  0.85618      0.96687           nan   \n",
       "2                   1.00000  2.44726  0.81575      0.85618      -0.14382   \n",
       "3                   1.00000  3.40208  0.85052      0.81575      -0.18425   \n",
       "4                   1.00000  4.35530  0.87106      0.85052      -0.14948   \n",
       "\n",
       "   run_diff_win_sos  \n",
       "0               nan  \n",
       "1               nan  \n",
       "2          -0.14382  \n",
       "3          -0.32806  \n",
       "4          -0.47754  "
      ]
     },
     "execution_count": 31,
     "metadata": {},
     "output_type": "execute_result"
    }
   ],
   "source": [
    "combo_sos.head()"
   ]
  },
  {
   "cell_type": "code",
   "execution_count": 38,
   "metadata": {},
   "outputs": [],
   "source": [
    "mean_diff_win_sos = combo_sos['diff_win_sos'].mean()"
   ]
  },
  {
   "cell_type": "code",
   "execution_count": 39,
   "metadata": {},
   "outputs": [],
   "source": [
    "median_run_diff_win_sos = combo_sos['run_diff_win_sos'].median()"
   ]
  },
  {
   "cell_type": "code",
   "execution_count": 28,
   "metadata": {},
   "outputs": [],
   "source": [
    "idx = combo_sos.groupby(['user_id'])['index'].transform(max) == combo_sos['index']"
   ]
  },
  {
   "cell_type": "code",
   "execution_count": 29,
   "metadata": {},
   "outputs": [],
   "source": [
    "combo_sos1 = combo_sos[idx]"
   ]
  },
  {
   "cell_type": "markdown",
   "metadata": {},
   "source": [
    "## gather fillna values"
   ]
  },
  {
   "cell_type": "code",
   "execution_count": 32,
   "metadata": {},
   "outputs": [
    {
     "name": "stderr",
     "output_type": "stream",
     "text": [
      "/opt/conda/lib/python3.7/site-packages/ipykernel_launcher.py:1: SettingWithCopyWarning: \n",
      "A value is trying to be set on a copy of a slice from a DataFrame.\n",
      "Try using .loc[row_indexer,col_indexer] = value instead\n",
      "\n",
      "See the caveats in the documentation: https://pandas.pydata.org/pandas-docs/stable/user_guide/indexing.html#returning-a-view-versus-a-copy\n",
      "  \"\"\"Entry point for launching an IPython kernel.\n"
     ]
    }
   ],
   "source": [
    "combo_sos1['diff_win_sos'] = combo_sos1['diff_win_sos'].fillna(mean_diff_win_sos)"
   ]
  },
  {
   "cell_type": "code",
   "execution_count": 33,
   "metadata": {},
   "outputs": [
    {
     "name": "stderr",
     "output_type": "stream",
     "text": [
      "/opt/conda/lib/python3.7/site-packages/ipykernel_launcher.py:1: SettingWithCopyWarning: \n",
      "A value is trying to be set on a copy of a slice from a DataFrame.\n",
      "Try using .loc[row_indexer,col_indexer] = value instead\n",
      "\n",
      "See the caveats in the documentation: https://pandas.pydata.org/pandas-docs/stable/user_guide/indexing.html#returning-a-view-versus-a-copy\n",
      "  \"\"\"Entry point for launching an IPython kernel.\n"
     ]
    }
   ],
   "source": [
    "combo_sos1['run_diff_win_sos'] = combo_sos1['run_diff_win_sos'].fillna(median_run_diff_win_sos)"
   ]
  },
  {
   "cell_type": "code",
   "execution_count": 32,
   "metadata": {},
   "outputs": [
    {
     "data": {
      "text/plain": [
       "index                           0\n",
       "user_id                         0\n",
       "task_container_id               0\n",
       "answered_correctly_content      0\n",
       "answered_correctly_avg_u       87\n",
       "run_sos                         0\n",
       "sos_fin                         0\n",
       "lag_sos_fin                   108\n",
       "diff_win_sos                    0\n",
       "run_diff_win_sos                0\n",
       "dtype: int64"
      ]
     },
     "execution_count": 32,
     "metadata": {},
     "output_type": "execute_result"
    }
   ],
   "source": [
    "combo_sos1.isna().sum()"
   ]
  },
  {
   "cell_type": "code",
   "execution_count": 19,
   "metadata": {},
   "outputs": [],
   "source": [
    "combo_sos1 = dt.fread('combo_sos_fin.jay').to_pandas()"
   ]
  },
  {
   "cell_type": "code",
   "execution_count": 33,
   "metadata": {},
   "outputs": [
    {
     "data": {
      "text/plain": [
       "(393656, 10)"
      ]
     },
     "execution_count": 33,
     "metadata": {},
     "output_type": "execute_result"
    }
   ],
   "source": [
    "combo_sos1.shape"
   ]
  },
  {
   "cell_type": "code",
   "execution_count": 38,
   "metadata": {},
   "outputs": [],
   "source": [
    "valid1 = valid.merge(combo_sos1[['user_id', 'diff_win_sos', 'run_diff_win_sos']], how='left', on='user_id' )"
   ]
  },
  {
   "cell_type": "code",
   "execution_count": 34,
   "metadata": {},
   "outputs": [],
   "source": [
    "valid_2 = valid.merge(combo_sos[['user_id','task_container_id' ,'diff_win_sos', 'run_diff_win_sos']], how='left', on=['user_id','task_container_id'])"
   ]
  },
  {
   "cell_type": "code",
   "execution_count": 40,
   "metadata": {},
   "outputs": [],
   "source": [
    "med_run_diff_time  = train.run_diff_time.median()"
   ]
  },
  {
   "cell_type": "code",
   "execution_count": 41,
   "metadata": {},
   "outputs": [],
   "source": [
    "valid_2['run_diff_time'] = valid_2['run_diff_time'].fillna(med_run_diff_time)"
   ]
  },
  {
   "cell_type": "code",
   "execution_count": 42,
   "metadata": {},
   "outputs": [],
   "source": [
    "valid_2['diff_win_sos'] = valid_2['diff_win_sos'].fillna(mean_diff_win_sos)\n",
    "valid_2['run_diff_win_sos'] = valid_2['run_diff_win_sos'].fillna(median_run_diff_win_sos)"
   ]
  },
  {
   "cell_type": "code",
   "execution_count": 84,
   "metadata": {},
   "outputs": [
    {
     "data": {
      "text/plain": [
       "7235.340028076175"
      ]
     },
     "execution_count": 84,
     "metadata": {},
     "output_type": "execute_result"
    }
   ],
   "source": [
    "med_run_diff_time"
   ]
  },
  {
   "cell_type": "code",
   "execution_count": 49,
   "metadata": {},
   "outputs": [
    {
     "data": {
      "text/plain": [
       "378537"
      ]
     },
     "execution_count": 49,
     "metadata": {},
     "output_type": "execute_result"
    }
   ],
   "source": [
    "train.answered_correctly_avg_u.isna().sum()"
   ]
  },
  {
   "cell_type": "code",
   "execution_count": 50,
   "metadata": {},
   "outputs": [],
   "source": [
    "tr_answered_correctly_avg_u_avg= train.answered_correctly_avg_u.mean()"
   ]
  },
  {
   "cell_type": "code",
   "execution_count": 51,
   "metadata": {},
   "outputs": [],
   "source": [
    "train['answered_correctly_avg_u'] = train['answered_correctly_avg_u'].fillna(tr_answered_correctly_avg_u_avg)"
   ]
  },
  {
   "cell_type": "code",
   "execution_count": 82,
   "metadata": {},
   "outputs": [
    {
     "data": {
      "text/plain": [
       "0.23022967212088155"
      ]
     },
     "execution_count": 82,
     "metadata": {},
     "output_type": "execute_result"
    }
   ],
   "source": [
    "mean_diff_win_sos"
   ]
  },
  {
   "cell_type": "markdown",
   "metadata": {},
   "source": [
    "## All fillna values needed for Inference"
   ]
  },
  {
   "cell_type": "code",
   "execution_count": 85,
   "metadata": {},
   "outputs": [],
   "source": [
    "fil_na_valid = {'tr_answered_correctly_avg_u_avg':0.6435324918263083,'mean_diff_win_sos':0.23022967212088155,\n",
    " 'median_run_diff_win_sos':54.92441085160483, 'med_run_diff_time': 7235.340028076175}"
   ]
  },
  {
   "cell_type": "code",
   "execution_count": 52,
   "metadata": {},
   "outputs": [],
   "source": [
    "valid_2['answered_correctly_avg_u'] = valid_2['answered_correctly_avg_u'].fillna(tr_answered_correctly_avg_u_avg)"
   ]
  },
  {
   "cell_type": "code",
   "execution_count": 55,
   "metadata": {},
   "outputs": [],
   "source": [
    "tr_run_diff_time_avg = train['run_diff_time'].mean()"
   ]
  },
  {
   "cell_type": "code",
   "execution_count": 56,
   "metadata": {},
   "outputs": [],
   "source": [
    "train['run_diff_time'] = train['run_diff_time'].fillna(tr_run_diff_time_avg)"
   ]
  },
  {
   "cell_type": "code",
   "execution_count": 54,
   "metadata": {},
   "outputs": [
    {
     "data": {
      "text/plain": [
       "answered_correctly_avg_u                 0\n",
       "answered_correctly_sum_u                 0\n",
       "count_u                                  0\n",
       "answered_correctly_avg_c                 0\n",
       "content_sum                              0\n",
       "run_diff_time                       378537\n",
       "diff_pass_rate                           0\n",
       "prior_question_elapsed_time_mean         0\n",
       "part_2                                   0\n",
       "part_5                                   0\n",
       "part_7                                   0\n",
       "diff_win_sos                             0\n",
       "dtype: int64"
      ]
     },
     "execution_count": 54,
     "metadata": {},
     "output_type": "execute_result"
    }
   ],
   "source": [
    "train[FEATS].isna().sum()"
   ]
  },
  {
   "cell_type": "code",
   "execution_count": 53,
   "metadata": {},
   "outputs": [
    {
     "data": {
      "text/plain": [
       "answered_correctly_avg_u            0\n",
       "answered_correctly_sum_u            0\n",
       "count_u                             0\n",
       "answered_correctly_avg_c            0\n",
       "content_sum                         0\n",
       "run_diff_time                       0\n",
       "diff_pass_rate                      0\n",
       "prior_question_elapsed_time_mean    0\n",
       "part_2                              0\n",
       "part_5                              0\n",
       "part_7                              0\n",
       "diff_win_sos                        0\n",
       "dtype: int64"
      ]
     },
     "execution_count": 53,
     "metadata": {},
     "output_type": "execute_result"
    }
   ],
   "source": [
    "valid_2[FEATS].isna().sum()"
   ]
  },
  {
   "cell_type": "code",
   "execution_count": 36,
   "metadata": {},
   "outputs": [],
   "source": [
    "valid_2 = valid_2.merge(results_c_r3[['content_id', 'part_2',  'part_5','part_7' \n",
    "                                     #'part_1', 'part_3','part_4', 'part_6',  \n",
    "                                     ]], how='left', on='content_id')"
   ]
  },
  {
   "cell_type": "raw",
   "metadata": {},
   "source": [
    "results_c_r3.to_csv('results_c_r3.gz', compression='gzip')"
   ]
  },
  {
   "cell_type": "code",
   "execution_count": 37,
   "metadata": {},
   "outputs": [],
   "source": [
    "valid_2.drop('part', axis=1, inplace=True)"
   ]
  },
  {
   "cell_type": "markdown",
   "metadata": {},
   "source": [
    "## Modeling"
   ]
  },
  {
   "cell_type": "raw",
   "metadata": {},
   "source": [
    "## Cut down from last 800 to 600 per user due to speed"
   ]
  },
  {
   "cell_type": "code",
   "execution_count": 63,
   "metadata": {},
   "outputs": [],
   "source": [
    "train_tr = train.groupby('user_id').tail(600)"
   ]
  },
  {
   "cell_type": "markdown",
   "metadata": {},
   "source": [
    "### Iteration over train, valid using early stoppage on binary logloss error"
   ]
  },
  {
   "cell_type": "code",
   "execution_count": 64,
   "metadata": {},
   "outputs": [],
   "source": [
    "TARGET = 'answered_correctly'\n",
    "FEATS = ['answered_correctly_avg_u', 'answered_correctly_sum_u', 'count_u', 'answered_correctly_avg_c','content_sum', 'run_diff_time', \n",
    "        #'mean',\n",
    "         'diff_pass_rate','prior_question_elapsed_time_mean','part_2', 'part_5', 'part_7', 'diff_win_sos' #,'run_diff_win_sos'\n",
    "         #'sos_fin','lag_sos_fin','diff_win_sos','part_1',  'part_6','part_3','part_4', \n",
    "          #'tagsA', 'tagsC', 'task_container_id', 'diff_time_elapse','run_diff_time''diff_pass_rate1',,'tags',\n",
    "         ]"
   ]
  },
  {
   "cell_type": "code",
   "execution_count": 67,
   "metadata": {},
   "outputs": [],
   "source": [
    "lgb_train = lgb.Dataset(train_tr[FEATS], y_tr)\n",
    "lgb_valid = lgb.Dataset(valid_2[FEATS], y_va)\n",
    "_=gc.collect()"
   ]
  },
  {
   "cell_type": "code",
   "execution_count": 65,
   "metadata": {
    "_kg_hide-input": true
   },
   "outputs": [],
   "source": [
    "# Removed the weaker predictor levels in \"Part\" by # of splits\n",
    "y_tr = train_tr[TARGET]\n",
    "y_va = valid_2[TARGET]"
   ]
  },
  {
   "cell_type": "raw",
   "metadata": {},
   "source": [
    "## History of improvement\n",
    "#[45]\ttraining's binary_logloss: 0.544198\tvalid_1's binary_logloss: 0.554317\n",
    "#auc: 0.7557725602078914\n",
    "#[58]\ttraining's binary_logloss: 0.542914\tvalid_1's binary_logloss: 0.536882\n",
    "#auc: 0.7750743482620746\n",
    "#[2258]\ttraining's binary_logloss: 0.544765\tvalid_1's binary_logloss: 0.531477\n",
    "#auc: 0.7789960049703525\n",
    "#[1961]\ttraining's binary_logloss: 0.544554\tvalid_1's binary_logloss: 0.531423\n",
    "#auc: 0.7790754453532427"
   ]
  },
  {
   "cell_type": "markdown",
   "metadata": {},
   "source": [
    "## Optuna optimization"
   ]
  },
  {
   "cell_type": "markdown",
   "metadata": {},
   "source": [
    "import optuna\n",
    "def objective(trial):    \n",
    "    params = {\n",
    "            'num_leaves': trial.suggest_int('num_leaves', 32, 512),\n",
    "            'boosting_type': 'gbdt',\n",
    "            'max_bin': trial.suggest_int('max_bin', 700, 900),\n",
    "            'objective': 'binary',\n",
    "            'metric': 'binary_logloss',\n",
    "            'max_depth': trial.suggest_int('max_depth', 4, 16),\n",
    "            'min_child_weight': trial.suggest_int('min_child_weight', 1, 16),\n",
    "            'feature_fraction': trial.suggest_uniform('feature_fraction', 0.4, 1.0),\n",
    "            'bagging_fraction': trial.suggest_uniform('bagging_fraction', 0.4, 1.0),\n",
    "            'bagging_freq': trial.suggest_int('bagging_freq', 1, 8),\n",
    "            'min_child_samples': trial.suggest_int('min_child_samples', 4, 80),\n",
    "            'lambda_l1': trial.suggest_loguniform('lambda_l1', 1e-8, 1.0),\n",
    "            'lambda_l2': trial.suggest_loguniform('lambda_l2', 1e-8, 1.0),\n",
    "            'early_stopping_rounds': 10\n",
    "            }\n",
    "    model = lgb.train(params, lgb_train, valid_sets=[lgb_train, lgb_valid], verbose_eval=1000, num_boost_round=1300)\n",
    "    val_pred = model.predict(valid_2[FEATS])\n",
    "    score = roc_auc_score(y_va, val_pred)\n",
    "    print(f\"AUC = {score}\")\n",
    "    return score\n",
    "### Bayesian optimization\n",
    "study = optuna.create_study(direction='minimize')\n",
    "study.optimize(objective, n_trials=10)"
   ]
  },
  {
   "cell_type": "markdown",
   "metadata": {},
   "source": [
    "print('Number of finished trials: {}'.format(len(study.trials)))\n",
    "\n",
    "print('Best trial:')\n",
    "trial = study.best_trial\n",
    "\n",
    "print('  Value: {}'.format(trial.value))\n",
    "\n",
    "print('  Params: ')\n",
    "for key, value in trial.params.items():\n",
    "    print('    {}: {}'.format(key, value))"
   ]
  },
  {
   "cell_type": "code",
   "execution_count": null,
   "metadata": {},
   "outputs": [],
   "source": [
    "## Best params\n",
    "# AUC .793\n",
    "params = {'objective':'binary', 'metric':'binary_logloss','num_leaves': 476, 'max_bin': 743, 'max_depth': 16, \n",
    "          'min_child_weight': 6, 'feature_fraction': 0.594103957735466, 'bagging_fraction': 0.9365679533623728, \n",
    "          'bagging_freq': 8, 'min_child_samples': 54, 'lambda_l1': 0.1899983373489074, \n",
    "          'lambda_l2': 0.006356678827300957}"
   ]
  },
  {
   "cell_type": "markdown",
   "metadata": {},
   "source": [
    "## Add 'diff_win_sos' & 'run_diff_time' to final model"
   ]
  },
  {
   "cell_type": "code",
   "execution_count": null,
   "metadata": {},
   "outputs": [],
   "source": [
    "model = lgb.train(\n",
    "                    params,\n",
    "                    lgb_train,\n",
    "                    valid_sets=[lgb_train , lgb_valid],\n",
    "                    verbose_eval=100,\n",
    "                    num_boost_round=1000,\n",
    "                    early_stopping_rounds=10\n",
    "                )"
   ]
  },
  {
   "cell_type": "code",
   "execution_count": 115,
   "metadata": {
    "scrolled": true
   },
   "outputs": [
    {
     "name": "stdout",
     "output_type": "stream",
     "text": [
      "auc: 0.7933385375274257\n"
     ]
    },
    {
     "data": {
      "image/png": "[encoded data removed]",
      "text/plain": [
       "<Figure size 432x288 with 1 Axes>"
      ]
     },
     "metadata": {
      "needs_background": "light"
     },
     "output_type": "display_data"
    }
   ],
   "source": [
    "print('auc:', roc_auc_score(y_va, model.predict(valid_2[FEATS])))\n",
    "_ = lgb.plot_importance(model)"
   ]
  },
  {
   "cell_type": "markdown",
   "metadata": {},
   "source": [
    "f = open(\"fil_na_valid.pkl\",\"wb\")\n",
    "pickle.dump(fil_na_valid,f)\n",
    "f.close()"
   ]
  },
  {
   "cell_type": "code",
   "execution_count": 78,
   "metadata": {},
   "outputs": [],
   "source": [
    "import pickle\n",
    "def save_model(model,model_name):\n",
    "\n",
    "    pkl_filename = \"%s.pkl\"  % (model_name)\n",
    "    print(pkl_filename)\n",
    "    with open(pkl_filename, 'wb') as file:  \n",
    "        pickle.dump(model, file)"
   ]
  },
  {
   "cell_type": "code",
   "execution_count": 79,
   "metadata": {},
   "outputs": [
    {
     "name": "stdout",
     "output_type": "stream",
     "text": [
      "/home/jupyter/lgbm_11_25_20.pkl\n"
     ]
    }
   ],
   "source": [
    "model_name='/home/jupyter/' + 'lgbm_11_25_20' \n",
    "save_model(model,model_name)"
   ]
  }
 ],
 "metadata": {
  "kernelspec": {
   "display_name": "Python 3",
   "language": "python",
   "name": "python3"
  },
  "language_info": {
   "codemirror_mode": {
    "name": "ipython",
    "version": 3
   },
   "file_extension": ".py",
   "mimetype": "text/x-python",
   "name": "python",
   "nbconvert_exporter": "python",
   "pygments_lexer": "ipython3",
   "version": "3.7.3"
  }
 },
 "nbformat": 4,
 "nbformat_minor": 4
}
