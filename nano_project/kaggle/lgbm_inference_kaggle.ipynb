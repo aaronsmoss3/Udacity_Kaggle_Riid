{
 "cells": [
  {
   "cell_type": "code",
   "execution_count": 2,
   "metadata": {
    "execution": {
     "iopub.execute_input": "2020-11-26T04:10:14.729017Z",
     "iopub.status.busy": "2020-11-26T04:10:14.728338Z",
     "iopub.status.idle": "2020-11-26T04:10:15.931025Z",
     "shell.execute_reply": "2020-11-26T04:10:15.930485Z"
    },
    "lines_to_next_cell": 2,
    "papermill": {
     "duration": 1.231395,
     "end_time": "2020-11-26T04:10:15.931151",
     "exception": false,
     "start_time": "2020-11-26T04:10:14.699756",
     "status": "completed"
    },
    "tags": []
   },
   "outputs": [],
   "source": [
    "import pandas as pd\n",
    "import numpy as np\n",
    "import gc\n",
    "from sklearn.metrics import roc_auc_score\n",
    "from collections import defaultdict\n",
    "from tqdm.notebook import tqdm\n",
    "import lightgbm as lgb"
   ]
  },
  {
   "cell_type": "code",
   "execution_count": 3,
   "metadata": {
    "execution": {
     "iopub.execute_input": "2020-11-26T04:10:15.986546Z",
     "iopub.status.busy": "2020-11-26T04:10:15.985823Z",
     "iopub.status.idle": "2020-11-26T04:10:15.989108Z",
     "shell.execute_reply": "2020-11-26T04:10:15.988497Z"
    },
    "papermill": {
     "duration": 0.032501,
     "end_time": "2020-11-26T04:10:15.989236",
     "exception": false,
     "start_time": "2020-11-26T04:10:15.956735",
     "status": "completed"
    },
    "tags": []
   },
   "outputs": [],
   "source": [
    "pd.set_option('display.float_format', lambda x: '%.5f' % x)\n",
    "pd.set_option('display.max_columns', 500)"
   ]
  },
  {
   "cell_type": "code",
   "execution_count": 4,
   "metadata": {
    "execution": {
     "iopub.execute_input": "2020-11-26T04:10:16.091541Z",
     "iopub.status.busy": "2020-11-26T04:10:16.090892Z",
     "iopub.status.idle": "2020-11-26T04:10:16.093768Z",
     "shell.execute_reply": "2020-11-26T04:10:16.093250Z"
    },
    "papermill": {
     "duration": 0.031591,
     "end_time": "2020-11-26T04:10:16.093875",
     "exception": false,
     "start_time": "2020-11-26T04:10:16.062284",
     "status": "completed"
    },
    "tags": []
   },
   "outputs": [],
   "source": [
    "import pickle\n",
    "def load_model(model_name):\n",
    "    with open(model_name, 'rb') as file:\n",
    "        model = pickle.load(file)\n",
    "    return model"
   ]
  },
  {
   "cell_type": "code",
   "execution_count": 5,
   "metadata": {
    "execution": {
     "iopub.execute_input": "2020-11-26T04:10:16.147414Z",
     "iopub.status.busy": "2020-11-26T04:10:16.146719Z",
     "iopub.status.idle": "2020-11-26T04:10:16.458369Z",
     "shell.execute_reply": "2020-11-26T04:10:16.459108Z"
    },
    "papermill": {
     "duration": 0.340954,
     "end_time": "2020-11-26T04:10:16.459306",
     "exception": false,
     "start_time": "2020-11-26T04:10:16.118352",
     "status": "completed"
    },
    "tags": []
   },
   "outputs": [],
   "source": [
    "model = load_model('../input/valid-upload/lgbm_11_25_20.pkl')"
   ]
  },
  {
   "cell_type": "code",
   "execution_count": 6,
   "metadata": {
    "execution": {
     "iopub.execute_input": "2020-11-26T04:10:16.548496Z",
     "iopub.status.busy": "2020-11-26T04:10:16.547539Z",
     "iopub.status.idle": "2020-11-26T04:10:16.551785Z",
     "shell.execute_reply": "2020-11-26T04:10:16.552424Z"
    },
    "papermill": {
     "duration": 0.047225,
     "end_time": "2020-11-26T04:10:16.552603",
     "exception": false,
     "start_time": "2020-11-26T04:10:16.505378",
     "status": "completed"
    },
    "tags": []
   },
   "outputs": [
    {
     "data": {
      "text/plain": [
       "['answered_correctly_avg_u',\n",
       " 'answered_correctly_sum_u',\n",
       " 'count_u',\n",
       " 'answered_correctly_avg_c',\n",
       " 'content_sum',\n",
       " 'run_diff_time',\n",
       " 'diff_pass_rate',\n",
       " 'prior_question_elapsed_time_mean',\n",
       " 'part_2',\n",
       " 'part_5',\n",
       " 'part_7',\n",
       " 'diff_win_sos']"
      ]
     },
     "execution_count": 6,
     "metadata": {},
     "output_type": "execute_result"
    }
   ],
   "source": [
    "model.feature_name()"
   ]
  },
  {
   "cell_type": "code",
   "execution_count": 7,
   "metadata": {
    "execution": {
     "iopub.execute_input": "2020-11-26T04:10:16.630640Z",
     "iopub.status.busy": "2020-11-26T04:10:16.629964Z",
     "iopub.status.idle": "2020-11-26T04:10:16.643312Z",
     "shell.execute_reply": "2020-11-26T04:10:16.644047Z"
    },
    "papermill": {
     "duration": 0.056331,
     "end_time": "2020-11-26T04:10:16.644220",
     "exception": false,
     "start_time": "2020-11-26T04:10:16.587889",
     "status": "completed"
    },
    "tags": []
   },
   "outputs": [],
   "source": [
    "test_df = pd.read_csv('../input/riiid-test-answer-prediction/example_test.csv')"
   ]
  },
  {
   "cell_type": "code",
   "execution_count": 8,
   "metadata": {
    "execution": {
     "iopub.execute_input": "2020-11-26T04:10:16.701597Z",
     "iopub.status.busy": "2020-11-26T04:10:16.700925Z",
     "iopub.status.idle": "2020-11-26T04:10:16.762172Z",
     "shell.execute_reply": "2020-11-26T04:10:16.761498Z"
    },
    "papermill": {
     "duration": 0.093368,
     "end_time": "2020-11-26T04:10:16.762323",
     "exception": false,
     "start_time": "2020-11-26T04:10:16.668955",
     "status": "completed"
    },
    "tags": []
   },
   "outputs": [],
   "source": [
    "results_c_r3 = pd.read_csv('../input/valid-upload/results_c_r3')"
   ]
  },
  {
   "cell_type": "code",
   "execution_count": 9,
   "metadata": {
    "execution": {
     "iopub.execute_input": "2020-11-26T04:10:16.824790Z",
     "iopub.status.busy": "2020-11-26T04:10:16.824051Z",
     "iopub.status.idle": "2020-11-26T04:10:18.189821Z",
     "shell.execute_reply": "2020-11-26T04:10:18.189229Z"
    },
    "papermill": {
     "duration": 1.398385,
     "end_time": "2020-11-26T04:10:18.189936",
     "exception": false,
     "start_time": "2020-11-26T04:10:16.791551",
     "status": "completed"
    },
    "tags": []
   },
   "outputs": [],
   "source": [
    "# created dataset for latest value of 'diff_win_sos' by each user_id\n",
    "combo_sos_fin = pd.read_csv('../input/valid-combo2/combo_sos_fin')"
   ]
  },
  {
   "cell_type": "code",
   "execution_count": 10,
   "metadata": {
    "execution": {
     "iopub.execute_input": "2020-11-26T04:10:18.251177Z",
     "iopub.status.busy": "2020-11-26T04:10:18.250530Z",
     "iopub.status.idle": "2020-11-26T04:10:18.498167Z",
     "shell.execute_reply": "2020-11-26T04:10:18.497655Z"
    },
    "papermill": {
     "duration": 0.283257,
     "end_time": "2020-11-26T04:10:18.498318",
     "exception": false,
     "start_time": "2020-11-26T04:10:18.215061",
     "status": "completed"
    },
    "tags": []
   },
   "outputs": [],
   "source": [
    "# latest value of 'run_diff_time' by each user_id\n",
    "combo_final = pd.read_csv('../input/combo-final/combo_final')"
   ]
  },
  {
   "cell_type": "code",
   "execution_count": 11,
   "metadata": {
    "execution": {
     "iopub.execute_input": "2020-11-26T04:10:18.565321Z",
     "iopub.status.busy": "2020-11-26T04:10:18.563758Z",
     "iopub.status.idle": "2020-11-26T04:10:18.575030Z",
     "shell.execute_reply": "2020-11-26T04:10:18.574413Z"
    },
    "papermill": {
     "duration": 0.051514,
     "end_time": "2020-11-26T04:10:18.575150",
     "exception": false,
     "start_time": "2020-11-26T04:10:18.523636",
     "status": "completed"
    },
    "tags": []
   },
   "outputs": [
    {
     "data": {
      "text/html": [
       "<div>\n",
       "<style scoped>\n",
       "    .dataframe tbody tr th:only-of-type {\n",
       "        vertical-align: middle;\n",
       "    }\n",
       "\n",
       "    .dataframe tbody tr th {\n",
       "        vertical-align: top;\n",
       "    }\n",
       "\n",
       "    .dataframe thead th {\n",
       "        text-align: right;\n",
       "    }\n",
       "</style>\n",
       "<table border=\"1\" class=\"dataframe\">\n",
       "  <thead>\n",
       "    <tr style=\"text-align: right;\">\n",
       "      <th></th>\n",
       "      <th>index</th>\n",
       "      <th>user_id</th>\n",
       "      <th>task_container_id</th>\n",
       "      <th>answered_correctly_content</th>\n",
       "      <th>answered_correctly_avg_u</th>\n",
       "      <th>run_sos</th>\n",
       "      <th>sos_fin</th>\n",
       "      <th>lag_sos_fin</th>\n",
       "      <th>diff_win_sos</th>\n",
       "      <th>run_diff_win_sos</th>\n",
       "    </tr>\n",
       "  </thead>\n",
       "  <tbody>\n",
       "    <tr>\n",
       "      <th>0</th>\n",
       "      <td>93828029</td>\n",
       "      <td>115</td>\n",
       "      <td>41</td>\n",
       "      <td>0.54716</td>\n",
       "      <td>0.68889</td>\n",
       "      <td>32.88323</td>\n",
       "      <td>0.78293</td>\n",
       "      <td>0.76991</td>\n",
       "      <td>0.08102</td>\n",
       "      <td>1.07061</td>\n",
       "    </tr>\n",
       "    <tr>\n",
       "      <th>1</th>\n",
       "      <td>9965798</td>\n",
       "      <td>124</td>\n",
       "      <td>15</td>\n",
       "      <td>0.27143</td>\n",
       "      <td>0.24138</td>\n",
       "      <td>13.23457</td>\n",
       "      <td>0.82716</td>\n",
       "      <td>0.81020</td>\n",
       "      <td>0.56882</td>\n",
       "      <td>10.64802</td>\n",
       "    </tr>\n",
       "    <tr>\n",
       "      <th>2</th>\n",
       "      <td>12360138</td>\n",
       "      <td>2746</td>\n",
       "      <td>19</td>\n",
       "      <td>0.73937</td>\n",
       "      <td>0.55556</td>\n",
       "      <td>13.88044</td>\n",
       "      <td>0.69402</td>\n",
       "      <td>0.69164</td>\n",
       "      <td>0.13608</td>\n",
       "      <td>4.87217</td>\n",
       "    </tr>\n",
       "    <tr>\n",
       "      <th>3</th>\n",
       "      <td>83207367</td>\n",
       "      <td>5382</td>\n",
       "      <td>127</td>\n",
       "      <td>0.63091</td>\n",
       "      <td>0.67742</td>\n",
       "      <td>81.80157</td>\n",
       "      <td>0.63907</td>\n",
       "      <td>0.63914</td>\n",
       "      <td>-0.03828</td>\n",
       "      <td>-1.30695</td>\n",
       "    </tr>\n",
       "    <tr>\n",
       "      <th>4</th>\n",
       "      <td>66781417</td>\n",
       "      <td>8623</td>\n",
       "      <td>99</td>\n",
       "      <td>0.61029</td>\n",
       "      <td>0.63889</td>\n",
       "      <td>64.37545</td>\n",
       "      <td>0.64375</td>\n",
       "      <td>0.64409</td>\n",
       "      <td>0.00520</td>\n",
       "      <td>-6.31754</td>\n",
       "    </tr>\n",
       "  </tbody>\n",
       "</table>\n",
       "</div>"
      ],
      "text/plain": [
       "      index  user_id  task_container_id  answered_correctly_content  \\\n",
       "0  93828029      115                 41                     0.54716   \n",
       "1   9965798      124                 15                     0.27143   \n",
       "2  12360138     2746                 19                     0.73937   \n",
       "3  83207367     5382                127                     0.63091   \n",
       "4  66781417     8623                 99                     0.61029   \n",
       "\n",
       "   answered_correctly_avg_u  run_sos  sos_fin  lag_sos_fin  diff_win_sos  \\\n",
       "0                   0.68889 32.88323  0.78293      0.76991       0.08102   \n",
       "1                   0.24138 13.23457  0.82716      0.81020       0.56882   \n",
       "2                   0.55556 13.88044  0.69402      0.69164       0.13608   \n",
       "3                   0.67742 81.80157  0.63907      0.63914      -0.03828   \n",
       "4                   0.63889 64.37545  0.64375      0.64409       0.00520   \n",
       "\n",
       "   run_diff_win_sos  \n",
       "0           1.07061  \n",
       "1          10.64802  \n",
       "2           4.87217  \n",
       "3          -1.30695  \n",
       "4          -6.31754  "
      ]
     },
     "execution_count": 11,
     "metadata": {},
     "output_type": "execute_result"
    }
   ],
   "source": [
    "combo_sos_fin.head()"
   ]
  },
  {
   "cell_type": "markdown",
   "metadata": {
    "papermill": {
     "duration": 0.025554,
     "end_time": "2020-11-26T04:10:18.880143",
     "exception": false,
     "start_time": "2020-11-26T04:10:18.854589",
     "status": "completed"
    },
    "tags": []
   },
   "source": [
    "## feature engineering"
   ]
  },
  {
   "cell_type": "code",
   "execution_count": 12,
   "metadata": {
    "execution": {
     "iopub.execute_input": "2020-11-26T04:10:18.946976Z",
     "iopub.status.busy": "2020-11-26T04:10:18.946051Z",
     "iopub.status.idle": "2020-11-26T04:10:18.948548Z",
     "shell.execute_reply": "2020-11-26T04:10:18.949058Z"
    },
    "papermill": {
     "duration": 0.043241,
     "end_time": "2020-11-26T04:10:18.949197",
     "exception": false,
     "start_time": "2020-11-26T04:10:18.905956",
     "status": "completed"
    },
    "tags": []
   },
   "outputs": [],
   "source": [
    "# Taken from https://www.kaggle.com/its7171/lgbm-with-loop-feature-engineering \n",
    "# Thanks Tito!\n",
    "# funcs for user stats with loop\n",
    "def add_user_feats(df, answered_correctly_sum_u_dict, count_u_dict):\n",
    "    acsu = np.zeros(len(df), dtype=np.int32)\n",
    "    cu = np.zeros(len(df), dtype=np.int32)\n",
    "    for cnt,row in enumerate(tqdm(df[['user_id','answered_correctly']].values)):\n",
    "        acsu[cnt] = answered_correctly_sum_u_dict[row[0]]\n",
    "        cu[cnt] = count_u_dict[row[0]]\n",
    "        answered_correctly_sum_u_dict[row[0]] += row[1]\n",
    "        count_u_dict[row[0]] += 1\n",
    "    user_feats_df = pd.DataFrame({'answered_correctly_sum_u':acsu, 'count_u':cu})\n",
    "    user_feats_df['answered_correctly_avg_u'] = user_feats_df['answered_correctly_sum_u'] / user_feats_df['count_u']\n",
    "    df = pd.concat([df, user_feats_df], axis=1)\n",
    "    return df\n",
    "\n",
    "def add_user_feats_without_update(df, answered_correctly_sum_u_dict, count_u_dict):\n",
    "    acsu = np.zeros(len(df), dtype=np.int32)\n",
    "    cu = np.zeros(len(df), dtype=np.int32)\n",
    "    for cnt,row in enumerate(df[['user_id']].values):\n",
    "        acsu[cnt] = answered_correctly_sum_u_dict[row[0]]\n",
    "        cu[cnt] = count_u_dict[row[0]]\n",
    "    user_feats_df = pd.DataFrame({'answered_correctly_sum_u':acsu, 'count_u':cu})\n",
    "    user_feats_df['answered_correctly_avg_u'] = user_feats_df['answered_correctly_sum_u'] / user_feats_df['count_u']\n",
    "    df = pd.concat([df, user_feats_df], axis=1)\n",
    "    return df\n",
    "\n",
    "def update_user_feats(df, answered_correctly_sum_u_dict, count_u_dict):\n",
    "    for row in df[['user_id','answered_correctly','content_type_id']].values:\n",
    "        if row[2] == 0:\n",
    "            answered_correctly_sum_u_dict[row[0]] += row[1]\n",
    "            count_u_dict[row[0]] += 1"
   ]
  },
  {
   "cell_type": "markdown",
   "metadata": {
    "papermill": {
     "duration": 0.025401,
     "end_time": "2020-11-26T04:10:19.930530",
     "exception": false,
     "start_time": "2020-11-26T04:10:19.905129",
     "status": "completed"
    },
    "tags": []
   },
   "source": [
    "## inference"
   ]
  },
  {
   "cell_type": "code",
   "execution_count": 13,
   "metadata": {
    "execution": {
     "iopub.execute_input": "2020-11-26T04:10:19.996015Z",
     "iopub.status.busy": "2020-11-26T04:10:19.995342Z",
     "iopub.status.idle": "2020-11-26T04:10:21.352902Z",
     "shell.execute_reply": "2020-11-26T04:10:21.352358Z"
    },
    "papermill": {
     "duration": 1.388071,
     "end_time": "2020-11-26T04:10:21.353023",
     "exception": false,
     "start_time": "2020-11-26T04:10:19.964952",
     "status": "completed"
    },
    "tags": []
   },
   "outputs": [],
   "source": [
    "# Put the final values for users into dictionary so Tito's function will work and update as it runs inference by batch.\n",
    "answered_correctly_sum_u_dict = pd.read_pickle('../input/dict-model/answered_correctly_sum_u_dict.pkl')\n",
    "count_u_dict = pd.read_pickle('../input/dict-model/count_u_dict.pkl')\n",
    "# Fillna values for inference\n",
    "fil_na_valid = pd.read_pickle('../input/valid-upload/fil_na_valid.pkl')"
   ]
  },
  {
   "cell_type": "code",
   "execution_count": 14,
   "metadata": {
    "execution": {
     "iopub.execute_input": "2020-11-26T04:10:21.668987Z",
     "iopub.status.busy": "2020-11-26T04:10:21.668193Z",
     "iopub.status.idle": "2020-11-26T04:10:21.670704Z",
     "shell.execute_reply": "2020-11-26T04:10:21.671162Z"
    },
    "papermill": {
     "duration": 0.03346,
     "end_time": "2020-11-26T04:10:21.671326",
     "exception": false,
     "start_time": "2020-11-26T04:10:21.637866",
     "status": "completed"
    },
    "tags": []
   },
   "outputs": [],
   "source": [
    "feats = model.feature_name()"
   ]
  },
  {
   "cell_type": "code",
   "execution_count": 15,
   "metadata": {
    "execution": {
     "iopub.execute_input": "2020-11-26T04:10:21.729047Z",
     "iopub.status.busy": "2020-11-26T04:10:21.727992Z",
     "iopub.status.idle": "2020-11-26T04:10:21.731942Z",
     "shell.execute_reply": "2020-11-26T04:10:21.731487Z"
    },
    "papermill": {
     "duration": 0.034531,
     "end_time": "2020-11-26T04:10:21.732049",
     "exception": false,
     "start_time": "2020-11-26T04:10:21.697518",
     "status": "completed"
    },
    "tags": []
   },
   "outputs": [
    {
     "data": {
      "text/plain": [
       "['answered_correctly_avg_u',\n",
       " 'answered_correctly_sum_u',\n",
       " 'count_u',\n",
       " 'answered_correctly_avg_c',\n",
       " 'content_sum',\n",
       " 'run_diff_time',\n",
       " 'diff_pass_rate',\n",
       " 'prior_question_elapsed_time_mean',\n",
       " 'part_2',\n",
       " 'part_5',\n",
       " 'part_7',\n",
       " 'diff_win_sos']"
      ]
     },
     "execution_count": 15,
     "metadata": {},
     "output_type": "execute_result"
    }
   ],
   "source": [
    "feats"
   ]
  },
  {
   "cell_type": "code",
   "execution_count": 16,
   "metadata": {
    "execution": {
     "iopub.execute_input": "2020-11-26T04:10:21.789483Z",
     "iopub.status.busy": "2020-11-26T04:10:21.788814Z",
     "iopub.status.idle": "2020-11-26T04:10:21.791671Z",
     "shell.execute_reply": "2020-11-26T04:10:21.791049Z"
    },
    "papermill": {
     "duration": 0.033292,
     "end_time": "2020-11-26T04:10:21.791777",
     "exception": false,
     "start_time": "2020-11-26T04:10:21.758485",
     "status": "completed"
    },
    "tags": []
   },
   "outputs": [],
   "source": [
    "TARGET = 'answered_correctly'"
   ]
  },
  {
   "cell_type": "code",
   "execution_count": 17,
   "metadata": {
    "execution": {
     "iopub.execute_input": "2020-11-26T04:10:21.851073Z",
     "iopub.status.busy": "2020-11-26T04:10:21.850061Z",
     "iopub.status.idle": "2020-11-26T04:10:21.853329Z",
     "shell.execute_reply": "2020-11-26T04:10:21.852689Z"
    },
    "papermill": {
     "duration": 0.034409,
     "end_time": "2020-11-26T04:10:21.853453",
     "exception": false,
     "start_time": "2020-11-26T04:10:21.819044",
     "status": "completed"
    },
    "tags": []
   },
   "outputs": [],
   "source": [
    "prior_question_elapsed_time_mean = 254.39410"
   ]
  },
  {
   "cell_type": "code",
   "execution_count": 19,
   "metadata": {
    "execution": {
     "iopub.execute_input": "2020-11-26T04:10:21.999674Z",
     "iopub.status.busy": "2020-11-26T04:10:21.998800Z",
     "iopub.status.idle": "2020-11-26T04:10:22.003029Z",
     "shell.execute_reply": "2020-11-26T04:10:22.002431Z"
    },
    "papermill": {
     "duration": 0.035934,
     "end_time": "2020-11-26T04:10:22.003135",
     "exception": false,
     "start_time": "2020-11-26T04:10:21.967201",
     "status": "completed"
    },
    "tags": []
   },
   "outputs": [],
   "source": [
    "results_c_r3 = results_c_r3.rename(columns={'answered_correctly_content':'answered_correctly_avg_c'})"
   ]
  },
  {
   "cell_type": "code",
   "execution_count": 18,
   "metadata": {
    "execution": {
     "iopub.execute_input": "2020-11-26T04:10:21.913807Z",
     "iopub.status.busy": "2020-11-26T04:10:21.912981Z",
     "iopub.status.idle": "2020-11-26T04:10:21.939821Z",
     "shell.execute_reply": "2020-11-26T04:10:21.939073Z"
    },
    "papermill": {
     "duration": 0.059087,
     "end_time": "2020-11-26T04:10:21.939939",
     "exception": false,
     "start_time": "2020-11-26T04:10:21.880852",
     "status": "completed"
    },
    "tags": []
   },
   "outputs": [],
   "source": [
    "import riiideducation\n",
    "env = riiideducation.make_env()\n",
    "iter_test = env.iter_test()\n",
    "set_predict = env.predict"
   ]
  },
  {
   "cell_type": "code",
   "execution_count": 20,
   "metadata": {
    "execution": {
     "iopub.execute_input": "2020-11-26T04:10:22.062676Z",
     "iopub.status.busy": "2020-11-26T04:10:22.061846Z",
     "iopub.status.idle": "2020-11-26T04:10:22.066019Z",
     "shell.execute_reply": "2020-11-26T04:10:22.065393Z"
    },
    "papermill": {
     "duration": 0.035814,
     "end_time": "2020-11-26T04:10:22.066136",
     "exception": false,
     "start_time": "2020-11-26T04:10:22.030322",
     "status": "completed"
    },
    "tags": []
   },
   "outputs": [
    {
     "data": {
      "text/plain": [
       "['answered_correctly_avg_u',\n",
       " 'answered_correctly_sum_u',\n",
       " 'count_u',\n",
       " 'answered_correctly_avg_c',\n",
       " 'content_sum',\n",
       " 'run_diff_time',\n",
       " 'diff_pass_rate',\n",
       " 'prior_question_elapsed_time_mean',\n",
       " 'part_2',\n",
       " 'part_5',\n",
       " 'part_7',\n",
       " 'diff_win_sos']"
      ]
     },
     "execution_count": 20,
     "metadata": {},
     "output_type": "execute_result"
    }
   ],
   "source": [
    "feats"
   ]
  },
  {
   "cell_type": "code",
   "execution_count": 21,
   "metadata": {
    "execution": {
     "iopub.execute_input": "2020-11-26T04:10:22.126670Z",
     "iopub.status.busy": "2020-11-26T04:10:22.125897Z",
     "iopub.status.idle": "2020-11-26T04:10:22.130400Z",
     "shell.execute_reply": "2020-11-26T04:10:22.129852Z"
    },
    "papermill": {
     "duration": 0.036677,
     "end_time": "2020-11-26T04:10:22.130526",
     "exception": false,
     "start_time": "2020-11-26T04:10:22.093849",
     "status": "completed"
    },
    "tags": []
   },
   "outputs": [
    {
     "data": {
      "text/plain": [
       "{'tr_answered_correctly_avg_u_avg': 0.6435324918263083,\n",
       " 'mean_diff_win_sos': 0.23022967212088155,\n",
       " 'median_run_diff_win_sos': 54.92441085160483,\n",
       " 'med_run_diff_time': 7235.340028076175}"
      ]
     },
     "execution_count": 21,
     "metadata": {},
     "output_type": "execute_result"
    }
   ],
   "source": [
    "fil_na_valid"
   ]
  },
  {
   "cell_type": "code",
   "execution_count": 22,
   "metadata": {
    "execution": {
     "iopub.execute_input": "2020-11-26T04:10:22.201460Z",
     "iopub.status.busy": "2020-11-26T04:10:22.200709Z",
     "iopub.status.idle": "2020-11-26T04:10:22.890569Z",
     "shell.execute_reply": "2020-11-26T04:10:22.891297Z"
    },
    "papermill": {
     "duration": 0.733106,
     "end_time": "2020-11-26T04:10:22.891482",
     "exception": false,
     "start_time": "2020-11-26T04:10:22.158376",
     "status": "completed"
    },
    "scrolled": true,
    "tags": []
   },
   "outputs": [],
   "source": [
    "previous_test_df = None\n",
    "for (test_df, sample_prediction_df) in iter_test:\n",
    "    if previous_test_df is not None:\n",
    "        previous_test_df[TARGET] = eval(test_df[\"prior_group_answers_correct\"].iloc[0])\n",
    "        update_user_feats(previous_test_df, answered_correctly_sum_u_dict, count_u_dict)\n",
    "    previous_test_df = test_df.copy()\n",
    "    test_df = test_df[test_df['content_type_id'] == 0].reset_index(drop=True)\n",
    "    test_df = add_user_feats_without_update(test_df, answered_correctly_sum_u_dict, count_u_dict)\n",
    "    test_df['answered_correctly_avg_u'] = test_df['answered_correctly_avg_u'].fillna(fil_na_valid['tr_answered_correctly_avg_u_avg'])\n",
    "    \n",
    "    # Merge the latest values of 'run_diff_time'\n",
    "    test_df = pd.merge(test_df, combo_final[['user_id', 'run_diff_time']], on=['user_id'],  how=\"left\")\n",
    "    test_df['run_diff_time'] = test_df['run_diff_time'].fillna(fil_na_valid['med_run_diff_time'])\n",
    "    # Static sos\n",
    "    test_df = pd.merge(test_df, combo_sos_fin[['user_id', 'diff_win_sos']], on=['user_id'],  how=\"left\")\n",
    "    test_df['diff_win_sos'] = test_df['diff_win_sos'].fillna(fil_na_valid['mean_diff_win_sos'])\n",
    "    \n",
    "    test_df = pd.merge(test_df, results_c_r3[['content_id','diff_pass_rate','part_2','part_5','part_7',   \\\n",
    "                                              'answered_correctly_avg_c', 'content_sum']], on='content_id',  how=\"left\")\n",
    "    test_df.prior_question_elapsed_time = test_df.prior_question_elapsed_time/100\n",
    "    test_df['prior_question_elapsed_time_mean'] = test_df.prior_question_elapsed_time.fillna(prior_question_elapsed_time_mean)\n",
    "    \n",
    "    test_df[TARGET] =  model.predict(test_df[feats])\n",
    "    set_predict(test_df[['row_id', TARGET]])"
   ]
  },
  {
   "cell_type": "code",
   "execution_count": 23,
   "metadata": {
    "execution": {
     "iopub.execute_input": "2020-11-26T04:10:22.978269Z",
     "iopub.status.busy": "2020-11-26T04:10:22.977441Z",
     "iopub.status.idle": "2020-11-26T04:10:22.991543Z",
     "shell.execute_reply": "2020-11-26T04:10:22.992327Z"
    },
    "papermill": {
     "duration": 0.061242,
     "end_time": "2020-11-26T04:10:22.992499",
     "exception": false,
     "start_time": "2020-11-26T04:10:22.931257",
     "status": "completed"
    },
    "scrolled": true,
    "tags": []
   },
   "outputs": [
    {
     "data": {
      "text/html": [
       "<div>\n",
       "<style scoped>\n",
       "    .dataframe tbody tr th:only-of-type {\n",
       "        vertical-align: middle;\n",
       "    }\n",
       "\n",
       "    .dataframe tbody tr th {\n",
       "        vertical-align: top;\n",
       "    }\n",
       "\n",
       "    .dataframe thead th {\n",
       "        text-align: right;\n",
       "    }\n",
       "</style>\n",
       "<table border=\"1\" class=\"dataframe\">\n",
       "  <thead>\n",
       "    <tr style=\"text-align: right;\">\n",
       "      <th></th>\n",
       "      <th>row_id</th>\n",
       "      <th>timestamp</th>\n",
       "      <th>user_id</th>\n",
       "      <th>content_id</th>\n",
       "      <th>content_type_id</th>\n",
       "      <th>task_container_id</th>\n",
       "      <th>prior_question_elapsed_time</th>\n",
       "      <th>prior_question_had_explanation</th>\n",
       "      <th>prior_group_answers_correct</th>\n",
       "      <th>prior_group_responses</th>\n",
       "    </tr>\n",
       "    <tr>\n",
       "      <th>group_num</th>\n",
       "      <th></th>\n",
       "      <th></th>\n",
       "      <th></th>\n",
       "      <th></th>\n",
       "      <th></th>\n",
       "      <th></th>\n",
       "      <th></th>\n",
       "      <th></th>\n",
       "      <th></th>\n",
       "      <th></th>\n",
       "    </tr>\n",
       "  </thead>\n",
       "  <tbody>\n",
       "    <tr>\n",
       "      <th>3</th>\n",
       "      <td>74</td>\n",
       "      <td>75311</td>\n",
       "      <td>275030867</td>\n",
       "      <td>8308</td>\n",
       "      <td>0</td>\n",
       "      <td>3</td>\n",
       "      <td>15000.00000</td>\n",
       "      <td>False</td>\n",
       "      <td>[1, 1, 1, 1, 0, 1, 1, 0, 0, 1, 0, 0, 1, 1, 0, ...</td>\n",
       "      <td>[0, 1, 0, 0, 1, 1, 0, 0, 1, 1, 1, 0, 3, 0, 0, ...</td>\n",
       "    </tr>\n",
       "    <tr>\n",
       "      <th>3</th>\n",
       "      <td>75</td>\n",
       "      <td>31220886463</td>\n",
       "      <td>1305988022</td>\n",
       "      <td>396</td>\n",
       "      <td>0</td>\n",
       "      <td>4163</td>\n",
       "      <td>19000.00000</td>\n",
       "      <td>True</td>\n",
       "      <td>NaN</td>\n",
       "      <td>NaN</td>\n",
       "    </tr>\n",
       "    <tr>\n",
       "      <th>3</th>\n",
       "      <td>76</td>\n",
       "      <td>48613916248</td>\n",
       "      <td>1310228392</td>\n",
       "      <td>11869</td>\n",
       "      <td>0</td>\n",
       "      <td>1458</td>\n",
       "      <td>26333.00000</td>\n",
       "      <td>True</td>\n",
       "      <td>NaN</td>\n",
       "      <td>NaN</td>\n",
       "    </tr>\n",
       "    <tr>\n",
       "      <th>3</th>\n",
       "      <td>77</td>\n",
       "      <td>48613916248</td>\n",
       "      <td>1310228392</td>\n",
       "      <td>11871</td>\n",
       "      <td>0</td>\n",
       "      <td>1458</td>\n",
       "      <td>26333.00000</td>\n",
       "      <td>True</td>\n",
       "      <td>NaN</td>\n",
       "      <td>NaN</td>\n",
       "    </tr>\n",
       "    <tr>\n",
       "      <th>3</th>\n",
       "      <td>78</td>\n",
       "      <td>48613916248</td>\n",
       "      <td>1310228392</td>\n",
       "      <td>11870</td>\n",
       "      <td>0</td>\n",
       "      <td>1458</td>\n",
       "      <td>26333.00000</td>\n",
       "      <td>True</td>\n",
       "      <td>NaN</td>\n",
       "      <td>NaN</td>\n",
       "    </tr>\n",
       "  </tbody>\n",
       "</table>\n",
       "</div>"
      ],
      "text/plain": [
       "           row_id    timestamp     user_id  content_id  content_type_id  \\\n",
       "group_num                                                                 \n",
       "3              74        75311   275030867        8308                0   \n",
       "3              75  31220886463  1305988022         396                0   \n",
       "3              76  48613916248  1310228392       11869                0   \n",
       "3              77  48613916248  1310228392       11871                0   \n",
       "3              78  48613916248  1310228392       11870                0   \n",
       "\n",
       "           task_container_id  prior_question_elapsed_time  \\\n",
       "group_num                                                   \n",
       "3                          3                  15000.00000   \n",
       "3                       4163                  19000.00000   \n",
       "3                       1458                  26333.00000   \n",
       "3                       1458                  26333.00000   \n",
       "3                       1458                  26333.00000   \n",
       "\n",
       "           prior_question_had_explanation  \\\n",
       "group_num                                   \n",
       "3                                   False   \n",
       "3                                    True   \n",
       "3                                    True   \n",
       "3                                    True   \n",
       "3                                    True   \n",
       "\n",
       "                                 prior_group_answers_correct  \\\n",
       "group_num                                                      \n",
       "3          [1, 1, 1, 1, 0, 1, 1, 0, 0, 1, 0, 0, 1, 1, 0, ...   \n",
       "3                                                        NaN   \n",
       "3                                                        NaN   \n",
       "3                                                        NaN   \n",
       "3                                                        NaN   \n",
       "\n",
       "                                       prior_group_responses  \n",
       "group_num                                                     \n",
       "3          [0, 1, 0, 0, 1, 1, 0, 0, 1, 1, 1, 0, 3, 0, 0, ...  \n",
       "3                                                        NaN  \n",
       "3                                                        NaN  \n",
       "3                                                        NaN  \n",
       "3                                                        NaN  "
      ]
     },
     "execution_count": 23,
     "metadata": {},
     "output_type": "execute_result"
    }
   ],
   "source": [
    "previous_test_df.head()"
   ]
  },
  {
   "cell_type": "markdown",
   "metadata": {},
   "source": [
    "## Inference attempt 2\n",
    "### Continuous update to Strength of Schedule (SOS) for each user's incoming question difficulty by inference batch\n",
    "#### Improved the speed of pd.merge by indexing\n",
    "#### Modified Tito's code to work for my SOS"
   ]
  },
  {
   "cell_type": "code",
   "execution_count": null,
   "metadata": {},
   "outputs": [],
   "source": [
    "# takes the latest SOS per user\n",
    "sos_sum_u_dict = dict(zip(combo_sos_fin['user_id'].values, combo_sos_fin['run_sos'].values))"
   ]
  },
  {
   "cell_type": "code",
   "execution_count": null,
   "metadata": {},
   "outputs": [],
   "source": [
    "# funcs for user stats with loop\n",
    "def add_sos_feats(df, sos_sum_u_dict):\n",
    "    acsu = np.zeros(len(df), dtype=np.int32)\n",
    "    cu = np.zeros(len(df), dtype=np.int32)\n",
    "    for cnt,row in enumerate(df[['user_id']].values):\n",
    "        acsu[cnt] = sos_sum_u_dict[row[0]]\n",
    "    user_sos_df = pd.DataFrame({'sos_sum_u_dict':acsu})\n",
    "    \n",
    "    df = pd.concat([df, user_feats_df], axis=1)\n",
    "    return df"
   ]
  },
  {
   "cell_type": "code",
   "execution_count": null,
   "metadata": {},
   "outputs": [],
   "source": [
    "def update_sos_feats(df, sos_sum_u_dict):\n",
    "    sos_df = None\n",
    "    sos_df = df.merge(results_c_r3[['answered_correctly_avg_c']].loc[results_c_r3.index.isin(df['content_id'])], how='left', left_on='content_id',\\\n",
    "                     right_index=True)\n",
    "    for row in sos_df[['user_id','answered_correctly_avg_c','content_type_id', 'timestamp']].values:\n",
    "        if row[2] == 0:\n",
    "            try:\n",
    "                sos_sum_u_dict[row[0]] += row[1]\n",
    "            except KeyError:\n",
    "                sos_sum_u_dict.update({row[0]: row[1]})"
   ]
  },
  {
   "cell_type": "code",
   "execution_count": null,
   "metadata": {},
   "outputs": [],
   "source": [
    "# Ran > 9 hrs for inference batch so, unfortunately, Kaggle Inference Timed Out\n",
    "## Did not add to leaderboard\n",
    "previous_test_df = None\n",
    "for (test_df, sample_prediction_df) in iter_test:\n",
    "    if previous_test_df is not None:\n",
    "        previous_test_df[TARGET] = eval(test_df[\"prior_group_answers_correct\"].iloc[0])\n",
    "        update_user_feats(previous_test_df, answered_correctly_sum_u_dict, count_u_dict)\n",
    "        update_sos_feats(previous_test_df, sos_sum_u_dict)\n",
    "    previous_test_df = test_df.copy()\n",
    "    test_df = test_df[test_df['content_type_id'] == 0].reset_index(drop=True)\n",
    "    test_df = add_user_feats_without_update(test_df, answered_correctly_sum_u_dict, count_u_dict)\n",
    "    test_df['answered_correctly_avg_u'] = test_df['answered_correctly_avg_u'].fillna(fil_na_valid['tr_answered_correctly_avg_u_avg'])\n",
    "    \n",
    "    test_df = pd.merge(test_df, combo_final1.loc[combo_final1.index.isin(test_df['user_id'])], how=\"left\", left_on=['user_id'], right_index=True)\n",
    "    test_df['run_diff_time'] = test_df['run_diff_time'].fillna(fil_na_valid['med_run_diff_time'])\n",
    "    test_df = pd.merge(test_df, results_c_r3[['diff_pass_rate','part_2','part_5','part_7','answered_correctly_avg_c', \\\n",
    "                                              'content_sum']].loc[results_c_r3.index.isin(test_df['content_id'])], \\\n",
    "                                                                  left_on='content_id',  how=\"left\", right_index=True)\n",
    "    test_df.prior_question_elapsed_time = test_df.prior_question_elapsed_time/100\n",
    "    test_df['prior_question_elapsed_time_mean'] = test_df.prior_question_elapsed_time.fillna(prior_question_elapsed_time_mean)\n",
    "    \n",
    "    test_df = add_sos_feats(test_df, sos_sum_u_dict)\n",
    "    test_df['sos_fin'] = test_df['sos_sum_u_dict'] / (test_df['task_container_id']+1)\n",
    "    test_df['diff_win_sos']= test_df['sos_fin'] - test_df['answered_correctly_avg_u']\n",
    "    test_df['diff_win_sos'] = test_df['diff_win_sos'].fillna(fil_na_valid['mean_diff_win_sos'])\n",
    "    \n",
    "    test_df[TARGET] =  model.predict(test_df[feats])\n",
    "    set_predict(test_df[['row_id', TARGET]])"
   ]
  }
 ],
 "metadata": {
  "kernelspec": {
   "display_name": "Python 3",
   "language": "python",
   "name": "python3"
  },
  "language_info": {
   "codemirror_mode": {
    "name": "ipython",
    "version": 3
   },
   "file_extension": ".py",
   "mimetype": "text/x-python",
   "name": "python",
   "nbconvert_exporter": "python",
   "pygments_lexer": "ipython3",
   "version": "3.7.3"
  },
  "papermill": {
   "duration": 13.298641,
   "end_time": "2020-11-26T04:10:23.141950",
   "environment_variables": {},
   "exception": null,
   "input_path": "__notebook__.ipynb",
   "output_path": "__notebook__.ipynb",
   "parameters": {},
   "start_time": "2020-11-26T04:10:09.843309",
   "version": "2.1.0"
  }
 },
 "nbformat": 4,
 "nbformat_minor": 4
}
